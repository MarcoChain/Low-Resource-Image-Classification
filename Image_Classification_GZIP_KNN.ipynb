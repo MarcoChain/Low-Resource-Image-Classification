{
  "nbformat": 4,
  "nbformat_minor": 0,
  "metadata": {
    "colab": {
      "provenance": []
    },
    "kernelspec": {
      "name": "python3",
      "display_name": "Python 3"
    },
    "language_info": {
      "name": "python"
    }
  },
  "cells": [
    {
      "cell_type": "code",
      "execution_count": 1,
      "metadata": {
        "id": "-nNhbg_rsOx3"
      },
      "outputs": [],
      "source": [
        "import gzip\n",
        "import torch\n",
        "import pickle\n",
        "import numpy as np\n",
        "from torchvision.datasets import MNIST\n",
        "from torchvision.transforms import Compose, ToTensor, Lambda\n",
        "from torch.utils.data import DataLoader"
      ]
    },
    {
      "cell_type": "code",
      "source": [
        "def MNIST_loaders(train_batch_size=1, test_batch_size=1):\n",
        "\n",
        "    transform = Compose([\n",
        "        ToTensor(),\n",
        "        Lambda(lambda x: torch.flatten(x))])\n",
        "\n",
        "    train_loader = DataLoader(\n",
        "        MNIST('./data/', train=True,\n",
        "              download=True,\n",
        "              transform=transform),\n",
        "        batch_size=train_batch_size, shuffle=False)\n",
        "\n",
        "    test_loader = DataLoader(\n",
        "        MNIST('./data/', train=False,\n",
        "              download=True,\n",
        "              transform=transform),\n",
        "        batch_size=test_batch_size, shuffle=False)\n",
        "\n",
        "    return train_loader, test_loader"
      ],
      "metadata": {
        "id": "hLgYwHh8kL7p"
      },
      "execution_count": 3,
      "outputs": []
    },
    {
      "cell_type": "code",
      "source": [
        "train_loader, test_loader = MNIST_loaders()"
      ],
      "metadata": {
        "id": "vu9iibxZj87g"
      },
      "execution_count": null,
      "outputs": []
    },
    {
      "cell_type": "code",
      "source": [
        "lbl_true=0\n",
        "count=0\n",
        "k=6\n",
        "\n",
        "for test in test_loader:\n",
        "  original_label = int(test[1])\n",
        "  test_vect = test[0].squeeze(0)\n",
        "  byte_vect = pickle.dumps(test_vect)\n",
        "  cx1=len(gzip.compress(byte_vect))\n",
        "\n",
        "  labels = []\n",
        "  distances = []\n",
        "\n",
        "  for train in train_loader:\n",
        "    lbl = int(train[1])\n",
        "    train_vect = train[0].squeeze(0)\n",
        "    byte_vect = pickle.dumps(train_vect)\n",
        "    cx2=len(gzip.compress(byte_vect))\n",
        "\n",
        "    conc_vect = torch.cat((train_vect, test_vect))\n",
        "    byte_vect = pickle.dumps(conc_vect)\n",
        "\n",
        "    cx1x2 = len(gzip.compress(byte_vect))\n",
        "\n",
        "    dist = (cx1x2 - min(cx1, cx2))/max(cx1, cx2)\n",
        "    labels.append(lbl)\n",
        "    distances.append(dist)\n",
        "\n",
        "  sorted_idx=np.argsort(np.array(distances))\n",
        "  labels = np.array(labels)\n",
        "  top_k_class=labels[sorted_idx[:k]]\n",
        "  lbl, counter = np.unique(top_k_class, return_counts=True)\n",
        "  final_label = lbl[np.argsort(-counter)[0]]\n",
        "\n",
        "  if final_label == original_label:\n",
        "    lbl_true +=1\n",
        "  count+=1\n",
        "  if count ==10:\n",
        "    break\n",
        "\n",
        "\n",
        "print(lbl_true/count)"
      ],
      "metadata": {
        "colab": {
          "base_uri": "https://localhost:8080/"
        },
        "id": "EfgpyudBsvoe",
        "outputId": "1f8c086f-f602-45ae-af89-835a3a151e35"
      },
      "execution_count": 5,
      "outputs": [
        {
          "output_type": "stream",
          "name": "stdout",
          "text": [
            "0.4\n"
          ]
        }
      ]
    }
  ]
}